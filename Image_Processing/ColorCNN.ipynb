{
  "cells": [
    {
      "cell_type": "markdown",
      "metadata": {
        "id": "XBXK7sxuZe2j"
      },
      "source": [
        "Color classification of images using CNN. Soumya and Anish, Jadavpur University, 2018."
      ]
    },
    {
      "cell_type": "code",
      "execution_count": null,
      "metadata": {
        "colab": {
          "base_uri": "https://localhost:8080/",
          "height": 122
        },
        "id": "O5BZEc2KsgrX",
        "outputId": "6a6b9f8d-f8d7-46cb-9a69-48f28da570a4"
      },
      "outputs": [
        {
          "name": "stdout",
          "output_type": "stream",
          "text": [
            "Go to this URL in a browser: https://accounts.google.com/o/oauth2/auth?client_id=947318989803-6bn6qk8qdgf4n4g3pfee6491hc0brc4i.apps.googleusercontent.com&redirect_uri=urn%3Aietf%3Awg%3Aoauth%3A2.0%3Aoob&scope=email%20https%3A%2F%2Fwww.googleapis.com%2Fauth%2Fdocs.test%20https%3A%2F%2Fwww.googleapis.com%2Fauth%2Fdrive%20https%3A%2F%2Fwww.googleapis.com%2Fauth%2Fdrive.photos.readonly%20https%3A%2F%2Fwww.googleapis.com%2Fauth%2Fpeopleapi.readonly&response_type=code\n",
            "\n",
            "Enter your authorization code:\n",
            "··········\n",
            "Mounted at /content/drive\n"
          ]
        }
      ],
      "source": [
        "# Load the Drive helper and mount\n",
        "from google.colab import drive\n",
        "\n",
        "drive.mount('/content/drive')"
      ]
    },
    {
      "cell_type": "code",
      "execution_count": null,
      "metadata": {
        "colab": {
          "base_uri": "https://localhost:8080/",
          "height": 238
        },
        "id": "esNYOgDS43US",
        "outputId": "924fd1aa-12bc-4041-ab36-96f7281ff696"
      },
      "outputs": [
        {
          "name": "stdout",
          "output_type": "stream",
          "text": [
            "--2019-02-17 05:29:15--  https://bin.equinox.io/c/4VmDzA7iaHb/ngrok-stable-linux-amd64.zip\n",
            "Resolving bin.equinox.io (bin.equinox.io)... 52.4.95.48, 52.2.175.150, 52.201.75.180, ...\n",
            "Connecting to bin.equinox.io (bin.equinox.io)|52.4.95.48|:443... connected.\n",
            "HTTP request sent, awaiting response... 200 OK\n",
            "Length: 5363700 (5.1M) [application/octet-stream]\n",
            "Saving to: ‘ngrok-stable-linux-amd64.zip’\n",
            "\n",
            "ngrok-stable-linux- 100%[===================>]   5.11M  3.40MB/s    in 1.5s    \n",
            "\n",
            "2019-02-17 05:29:17 (3.40 MB/s) - ‘ngrok-stable-linux-amd64.zip’ saved [5363700/5363700]\n",
            "\n",
            "Archive:  ngrok-stable-linux-amd64.zip\n",
            "  inflating: ngrok                   \n"
          ]
        }
      ],
      "source": [
        "# Download and unzip ngrok\n",
        "!wget https://bin.equinox.io/c/4VmDzA7iaHb/ngrok-stable-linux-amd64.zip\n",
        "!unzip ngrok-stable-linux-amd64.zip"
      ]
    },
    {
      "cell_type": "code",
      "execution_count": null,
      "metadata": {
        "id": "ye3zaXns44To"
      },
      "outputs": [],
      "source": [
        "# Run Tensorboard\n",
        "LOG_DIR = './logs'\n",
        "get_ipython().system_raw(\n",
        "    'tensorboard --logdir {} --host 0.0.0.0 --port 6006 &'\n",
        "    .format(LOG_DIR)\n",
        ")"
      ]
    },
    {
      "cell_type": "code",
      "execution_count": null,
      "metadata": {
        "id": "2UWWlL-z5C_o"
      },
      "outputs": [],
      "source": [
        "# Run ngrok\n",
        "get_ipython().system_raw('./ngrok http 6006 &')"
      ]
    },
    {
      "cell_type": "code",
      "execution_count": null,
      "metadata": {
        "colab": {
          "base_uri": "https://localhost:8080/",
          "height": 34
        },
        "id": "WwlMCGle5H8Z",
        "outputId": "dedaa94e-fd11-4ddc-de54-7fd9f549de8d"
      },
      "outputs": [
        {
          "name": "stdout",
          "output_type": "stream",
          "text": [
            "http://769038b2.ngrok.io\n"
          ]
        }
      ],
      "source": [
        "# Get URL\n",
        "! curl -s http://localhost:4040/api/tunnels | python3 -c \\\n",
        "    \"import sys, json; print(json.load(sys.stdin)['tunnels'][0]['public_url'])\""
      ]
    },
    {
      "cell_type": "code",
      "execution_count": null,
      "metadata": {
        "colab": {
          "base_uri": "https://localhost:8080/",
          "height": 34
        },
        "id": "-qHCtJpSZVh_",
        "outputId": "b2c819b9-aa53-4dce-ec90-0eab216ff388"
      },
      "outputs": [
        {
          "name": "stdout",
          "output_type": "stream",
          "text": [
            "Found 18000 images belonging to 6 classes.\n"
          ]
        }
      ],
      "source": [
        "# Run the CNN Model\n",
        "\n",
        "from time import time\n",
        "\n",
        "from keras.models import Sequential\n",
        "from keras.layers import Convolution2D\n",
        "from keras.layers import AveragePooling2D\n",
        "from keras.layers import Flatten\n",
        "from keras.layers import Dense,Activation\n",
        "from keras.layers import LeakyReLU\n",
        "\n",
        "from keras.callbacks import ModelCheckpoint\n",
        "from keras.callbacks import TensorBoard\n",
        "\n",
        "from keras.preprocessing.image import ImageDataGenerator\n",
        "\n",
        "# initalizing CNN\n",
        "classifier=Sequential(name='ColorCNN')\n",
        "\n",
        "# defining convolution layer one\n",
        "classifier.add(Convolution2D(12,(7,7),\n",
        "               input_shape=(48,48,3),\n",
        "\t\t           padding='same'))\n",
        "\n",
        "# activation layer\n",
        "classifier.add(Activation('relu'))\n",
        "\n",
        "# pooling layer one\n",
        "classifier.add(AveragePooling2D(pool_size=(3,3)))\n",
        "\n",
        "# defining convolution layer two\n",
        "#classifier.add(Convolution2D(6,(5,5),\n",
        " #              input_shape=(16,16,3),\n",
        "\t#\t           padding='same'))\n",
        "\n",
        "# activation layer\n",
        "#classifier.add(Activation('sigmoid'))\n",
        "\n",
        "# pooling layer two\n",
        "#classifier.add(AveragePooling2D(pool_size=(3,3)))\n",
        "\n",
        "# flattening\n",
        "classifier.add(Flatten())\n",
        "\n",
        "# full connection\n",
        "classifier.add(Dense(activation='relu', units=256))\n",
        "classifier.add(Dense(activation='softmax', units=6))\n",
        "\n",
        "# compile\n",
        "classifier.compile(optimizer='adam',\n",
        "                   loss='categorical_crossentropy',\n",
        "                   metrics=['accuracy'])\n",
        "\n",
        "# image preprocessing and fitting to CNN\n",
        "train_datagen=ImageDataGenerator(rescale=1./255)\n",
        "'''\n",
        "                                 shear_range=0.2,\n",
        "                                 zoom_range=0.2,\n",
        "                                 horizontal_flip=True,\n",
        "                                 featurewise_center=True)\n",
        "'''\n",
        "\n",
        "\n",
        "itr=train_datagen.flow_from_directory('/content/drive/My Drive/dataset',\n",
        "                                       target_size=(48,48),\n",
        "                                       color_mode='rgb',\n",
        "                                       batch_size=18000,\n",
        "                                       class_mode='categorical',\n",
        "                                       shuffle=True)\n",
        "\n",
        "X, y = itr.next()\n",
        "\n",
        "\n",
        "# collecting data in tensorboard\n",
        "tensorboard = TensorBoard(log_dir=LOG_DIR+'/{}'.format(time()),\n",
        "                          histogram_freq=1,\n",
        "\t\t\t                    write_graph=True,\n",
        "\t\t\t  \t\t\t  \t\t\t  \twrite_grads=True,\n",
        "\t\t\t  \t\t\t  \t\t\t    batch_size=60,\n",
        "\t\t\t  \t\t\t  \t\t\t    write_images=True)"
      ]
    },
    {
      "cell_type": "code",
      "execution_count": null,
      "metadata": {
        "colab": {
          "base_uri": "https://localhost:8080/",
          "height": 972
        },
        "id": "0uTw-d0paez-",
        "outputId": "ec279cd7-b493-4b32-8b47-8186c383fc8a"
      },
      "outputs": [
        {
          "name": "stdout",
          "output_type": "stream",
          "text": [
            "WARNING:tensorflow:From /usr/local/lib/python3.6/dist-packages/tensorflow/python/ops/math_ops.py:3066: to_int32 (from tensorflow.python.ops.math_ops) is deprecated and will be removed in a future version.\n",
            "Instructions for updating:\n",
            "Use tf.cast instead.\n",
            "Train on 12000 samples, validate on 6000 samples\n",
            "Epoch 1/25\n",
            "12000/12000 [==============================] - 5s 436us/step - loss: 0.5662 - acc: 0.7952 - val_loss: 0.4607 - val_acc: 0.8402\n",
            "Epoch 2/25\n",
            "12000/12000 [==============================] - 2s 191us/step - loss: 0.4404 - acc: 0.8460 - val_loss: 0.4143 - val_acc: 0.8568\n",
            "Epoch 3/25\n",
            "12000/12000 [==============================] - 2s 184us/step - loss: 0.3901 - acc: 0.8672 - val_loss: 0.4342 - val_acc: 0.8533\n",
            "Epoch 4/25\n",
            "12000/12000 [==============================] - 2s 189us/step - loss: 0.3472 - acc: 0.8802 - val_loss: 0.4352 - val_acc: 0.8482\n",
            "Epoch 5/25\n",
            "12000/12000 [==============================] - 2s 190us/step - loss: 0.3126 - acc: 0.8917 - val_loss: 0.3968 - val_acc: 0.8687\n",
            "Epoch 6/25\n",
            "12000/12000 [==============================] - 2s 190us/step - loss: 0.2919 - acc: 0.9001 - val_loss: 0.4216 - val_acc: 0.8650\n",
            "Epoch 7/25\n",
            "12000/12000 [==============================] - 2s 189us/step - loss: 0.2587 - acc: 0.9118 - val_loss: 0.4280 - val_acc: 0.8638\n",
            "Epoch 8/25\n",
            "12000/12000 [==============================] - 2s 193us/step - loss: 0.2307 - acc: 0.9172 - val_loss: 0.4361 - val_acc: 0.8560\n",
            "Epoch 9/25\n",
            "12000/12000 [==============================] - 2s 190us/step - loss: 0.1989 - acc: 0.9301 - val_loss: 0.4218 - val_acc: 0.8710\n",
            "Epoch 10/25\n",
            "12000/12000 [==============================] - 2s 190us/step - loss: 0.1892 - acc: 0.9340 - val_loss: 0.4477 - val_acc: 0.8633\n",
            "Epoch 11/25\n",
            "12000/12000 [==============================] - 2s 189us/step - loss: 0.1610 - acc: 0.9440 - val_loss: 0.4676 - val_acc: 0.8627\n",
            "Epoch 12/25\n",
            "12000/12000 [==============================] - 2s 193us/step - loss: 0.1379 - acc: 0.9526 - val_loss: 0.4626 - val_acc: 0.8688\n",
            "Epoch 13/25\n",
            "12000/12000 [==============================] - 2s 187us/step - loss: 0.1132 - acc: 0.9642 - val_loss: 0.5154 - val_acc: 0.8632\n",
            "Epoch 14/25\n",
            "12000/12000 [==============================] - 2s 188us/step - loss: 0.1021 - acc: 0.9676 - val_loss: 0.5111 - val_acc: 0.8697\n",
            "Epoch 15/25\n",
            "12000/12000 [==============================] - 2s 188us/step - loss: 0.0991 - acc: 0.9667 - val_loss: 0.5196 - val_acc: 0.8698\n",
            "Epoch 16/25\n",
            "12000/12000 [==============================] - 2s 193us/step - loss: 0.0767 - acc: 0.9745 - val_loss: 0.5587 - val_acc: 0.8605\n",
            "Epoch 17/25\n",
            "12000/12000 [==============================] - 2s 188us/step - loss: 0.0776 - acc: 0.9736 - val_loss: 0.5564 - val_acc: 0.8642\n",
            "Epoch 18/25\n",
            "12000/12000 [==============================] - 2s 192us/step - loss: 0.0543 - acc: 0.9832 - val_loss: 0.6447 - val_acc: 0.8590\n",
            "Epoch 19/25\n",
            "12000/12000 [==============================] - 2s 182us/step - loss: 0.0499 - acc: 0.9833 - val_loss: 0.6650 - val_acc: 0.8645\n",
            "Epoch 20/25\n",
            "12000/12000 [==============================] - 2s 188us/step - loss: 0.0542 - acc: 0.9844 - val_loss: 0.6603 - val_acc: 0.8550\n",
            "Epoch 21/25\n",
            "12000/12000 [==============================] - 2s 183us/step - loss: 0.0407 - acc: 0.9873 - val_loss: 0.7052 - val_acc: 0.8615\n",
            "Epoch 22/25\n",
            "12000/12000 [==============================] - 2s 189us/step - loss: 0.0746 - acc: 0.9797 - val_loss: 0.6874 - val_acc: 0.8568\n",
            "Epoch 23/25\n",
            "12000/12000 [==============================] - 2s 186us/step - loss: 0.0376 - acc: 0.9888 - val_loss: 0.6920 - val_acc: 0.8572\n",
            "Epoch 24/25\n",
            "12000/12000 [==============================] - 2s 189us/step - loss: 0.0377 - acc: 0.9882 - val_loss: 0.7480 - val_acc: 0.8628\n",
            "Epoch 25/25\n",
            "12000/12000 [==============================] - 2s 182us/step - loss: 0.0253 - acc: 0.9920 - val_loss: 0.7735 - val_acc: 0.8588\n"
          ]
        },
        {
          "data": {
            "text/plain": [
              "<keras.callbacks.History at 0x7f4071f00a58>"
            ]
          },
          "execution_count": 8,
          "metadata": {
            "tags": []
          },
          "output_type": "execute_result"
        }
      ],
      "source": [
        "# running the model\n",
        "classifier.fit(X, y,\n",
        "               batch_size=60,\n",
        "               epochs=25,\n",
        "               verbose=1,\n",
        "               callbacks=[tensorboard],\n",
        "               validation_split=float(1)/3)"
      ]
    }
  ],
  "metadata": {
    "accelerator": "GPU",
    "colab": {
      "collapsed_sections": [],
      "provenance": []
    },
    "kernelspec": {
      "display_name": "Python 3.9.13 64-bit",
      "language": "python",
      "name": "python3"
    },
    "language_info": {
      "name": "python",
      "version": "3.9.13"
    },
    "vscode": {
      "interpreter": {
        "hash": "b0fa6594d8f4cbf19f97940f81e996739fb7646882a419484c72d19e05852a7e"
      }
    }
  },
  "nbformat": 4,
  "nbformat_minor": 0
}
